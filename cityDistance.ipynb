{
 "cells": [
  {
   "cell_type": "code",
   "execution_count": 1,
   "metadata": {},
   "outputs": [
    {
     "name": "stdout",
     "output_type": "stream",
     "text": [
      "1\n"
     ]
    }
   ],
   "source": [
    "print(1)"
   ]
  },
  {
   "cell_type": "code",
   "execution_count": 1,
   "metadata": {},
   "outputs": [
    {
     "name": "stdout",
     "output_type": "stream",
     "text": [
      "Requirement already satisfied: pandas in /home/mickg/miniconda3/envs/geo/lib/python3.10/site-packages (2.0.3)\n",
      "Requirement already satisfied: geopy in /home/mickg/miniconda3/envs/geo/lib/python3.10/site-packages (2.3.0)\n",
      "Requirement already satisfied: folium in /home/mickg/miniconda3/envs/geo/lib/python3.10/site-packages (0.14.0)\n",
      "Requirement already satisfied: plotly in /home/mickg/miniconda3/envs/geo/lib/python3.10/site-packages (5.16.0)\n",
      "Requirement already satisfied: nbformat in /home/mickg/miniconda3/envs/geo/lib/python3.10/site-packages (5.9.2)\n",
      "Requirement already satisfied: python-dateutil>=2.8.2 in /home/mickg/miniconda3/envs/geo/lib/python3.10/site-packages (from pandas) (2.8.2)\n",
      "Requirement already satisfied: pytz>=2020.1 in /home/mickg/miniconda3/envs/geo/lib/python3.10/site-packages (from pandas) (2023.3)\n",
      "Requirement already satisfied: tzdata>=2022.1 in /home/mickg/miniconda3/envs/geo/lib/python3.10/site-packages (from pandas) (2023.3)\n",
      "Requirement already satisfied: numpy>=1.21.0 in /home/mickg/miniconda3/envs/geo/lib/python3.10/site-packages (from pandas) (1.25.2)\n",
      "Requirement already satisfied: geographiclib<3,>=1.52 in /home/mickg/miniconda3/envs/geo/lib/python3.10/site-packages (from geopy) (2.0)\n",
      "Requirement already satisfied: branca>=0.6.0 in /home/mickg/miniconda3/envs/geo/lib/python3.10/site-packages (from folium) (0.6.0)\n",
      "Requirement already satisfied: jinja2>=2.9 in /home/mickg/miniconda3/envs/geo/lib/python3.10/site-packages (from folium) (3.1.2)\n",
      "Requirement already satisfied: requests in /home/mickg/miniconda3/envs/geo/lib/python3.10/site-packages (from folium) (2.31.0)\n",
      "Requirement already satisfied: tenacity>=6.2.0 in /home/mickg/miniconda3/envs/geo/lib/python3.10/site-packages (from plotly) (8.2.2)\n",
      "Requirement already satisfied: packaging in /home/mickg/miniconda3/envs/geo/lib/python3.10/site-packages (from plotly) (23.0)\n",
      "Requirement already satisfied: fastjsonschema in /home/mickg/miniconda3/envs/geo/lib/python3.10/site-packages (from nbformat) (2.18.0)\n",
      "Requirement already satisfied: jsonschema>=2.6 in /home/mickg/miniconda3/envs/geo/lib/python3.10/site-packages (from nbformat) (4.19.0)\n",
      "Requirement already satisfied: jupyter-core in /home/mickg/miniconda3/envs/geo/lib/python3.10/site-packages (from nbformat) (5.3.0)\n",
      "Requirement already satisfied: traitlets>=5.1 in /home/mickg/miniconda3/envs/geo/lib/python3.10/site-packages (from nbformat) (5.7.1)\n",
      "Requirement already satisfied: MarkupSafe>=2.0 in /home/mickg/miniconda3/envs/geo/lib/python3.10/site-packages (from jinja2>=2.9->folium) (2.1.3)\n",
      "Requirement already satisfied: attrs>=22.2.0 in /home/mickg/miniconda3/envs/geo/lib/python3.10/site-packages (from jsonschema>=2.6->nbformat) (23.1.0)\n",
      "Requirement already satisfied: jsonschema-specifications>=2023.03.6 in /home/mickg/miniconda3/envs/geo/lib/python3.10/site-packages (from jsonschema>=2.6->nbformat) (2023.7.1)\n",
      "Requirement already satisfied: referencing>=0.28.4 in /home/mickg/miniconda3/envs/geo/lib/python3.10/site-packages (from jsonschema>=2.6->nbformat) (0.30.2)\n",
      "Requirement already satisfied: rpds-py>=0.7.1 in /home/mickg/miniconda3/envs/geo/lib/python3.10/site-packages (from jsonschema>=2.6->nbformat) (0.9.2)\n",
      "Requirement already satisfied: six>=1.5 in /home/mickg/miniconda3/envs/geo/lib/python3.10/site-packages (from python-dateutil>=2.8.2->pandas) (1.16.0)\n",
      "Requirement already satisfied: platformdirs>=2.5 in /home/mickg/miniconda3/envs/geo/lib/python3.10/site-packages (from jupyter-core->nbformat) (2.5.2)\n",
      "Requirement already satisfied: charset-normalizer<4,>=2 in /home/mickg/miniconda3/envs/geo/lib/python3.10/site-packages (from requests->folium) (3.2.0)\n",
      "Requirement already satisfied: idna<4,>=2.5 in /home/mickg/miniconda3/envs/geo/lib/python3.10/site-packages (from requests->folium) (3.4)\n",
      "Requirement already satisfied: urllib3<3,>=1.21.1 in /home/mickg/miniconda3/envs/geo/lib/python3.10/site-packages (from requests->folium) (2.0.4)\n",
      "Requirement already satisfied: certifi>=2017.4.17 in /home/mickg/miniconda3/envs/geo/lib/python3.10/site-packages (from requests->folium) (2023.7.22)\n"
     ]
    }
   ],
   "source": [
    "!pip install pandas geopy folium plotly nbformat"
   ]
  },
  {
   "cell_type": "code",
   "execution_count": 2,
   "metadata": {},
   "outputs": [],
   "source": [
    "import pandas as pd\n",
    "import requests\n",
    "from io import StringIO, BytesIO\n",
    "from zipfile import ZipFile\n",
    "from geopy.distance import geodesic\n",
    "import folium\n",
    "import plotly.express as px\n",
    "import nbformat"
   ]
  },
  {
   "cell_type": "code",
   "execution_count": 3,
   "metadata": {},
   "outputs": [
    {
     "name": "stdout",
     "output_type": "stream",
     "text": [
      "<Response [200]>\n",
      "10575420\n"
     ]
    }
   ],
   "source": [
    "url = \"http://download.geonames.org/export/dump/cities500.zip\"\n",
    "response = requests.get(url)\n",
    "print(response)\n",
    "print(response.content.__len__())\n"
   ]
  },
  {
   "cell_type": "code",
   "execution_count": 5,
   "metadata": {},
   "outputs": [
    {
     "name": "stdout",
     "output_type": "stream",
     "text": [
      "<Response [200]>\n"
     ]
    }
   ],
   "source": []
  },
  {
   "cell_type": "code",
   "execution_count": 4,
   "metadata": {},
   "outputs": [
    {
     "name": "stdout",
     "output_type": "stream",
     "text": [
      "        geonameid                 name            asciiname  \\\n",
      "0         3038999               Soldeu               Soldeu   \n",
      "1         3039154            El Tarter            El Tarter   \n",
      "2         3039163  Sant Julià de Lòria  Sant Julia de Loria   \n",
      "3         3039604       Pas de la Casa       Pas de la Casa   \n",
      "4         3039678               Ordino               Ordino   \n",
      "...           ...                  ...                  ...   \n",
      "199778     895269           Beitbridge           Beitbridge   \n",
      "199779     895308             Beatrice             Beatrice   \n",
      "199780     895417               Banket               Banket   \n",
      "199781    1085510              Epworth              Epworth   \n",
      "199782    1106542          Chitungwiza          Chitungwiza   \n",
      "\n",
      "                                           alternatenames  latitude  \\\n",
      "0                                                     NaN  42.57688   \n",
      "1                                    Ehl Tarter,Эл Тартер  42.57952   \n",
      "2       San Julia,San Julià,Sant Julia de Loria,Sant J...  42.46372   \n",
      "3                           Pas de la Kasa,Пас де ла Каса  42.54277   \n",
      "4       Ordino,ao er di nuo,orudino jiao qu,Ордино,オルデ...  42.55623   \n",
      "...                                                   ...       ...   \n",
      "199778  Bajtbridz,Bajtbridzh,Beitbridge,Beitbridzas,Be... -22.21667   \n",
      "199779                                           Beatrice -18.25283   \n",
      "199780                             Banket,Banket Junction -17.38333   \n",
      "199781                                            Epworth -17.89000   \n",
      "199782  Chitungviza,Chitungwiza,Chytungviza,Citungviza... -18.01274   \n",
      "\n",
      "        longitude feature class feature code country code  cc2 admin1 code  \\\n",
      "0         1.66769             P          PPL           AD  NaN          02   \n",
      "1         1.65362             P          PPL           AD  NaN          02   \n",
      "2         1.49129             P         PPLA           AD  NaN          06   \n",
      "3         1.73361             P          PPL           AD  NaN          03   \n",
      "4         1.53319             P         PPLA           AD  NaN          05   \n",
      "...           ...           ...          ...          ...  ...         ...   \n",
      "199778   30.00000             P          PPL           ZW  NaN          07   \n",
      "199779   30.84730             P          PPL           ZW  NaN          04   \n",
      "199780   30.40000             P          PPL           ZW  NaN          05   \n",
      "199781   31.14750             P         PPLX           ZW  NaN          10   \n",
      "199782   31.07555             P          PPL           ZW  NaN          10   \n",
      "\n",
      "       admin2 code admin3 code admin4 code  population  elevation   dem  \\\n",
      "0              NaN         NaN         NaN         602        NaN  1832   \n",
      "1              NaN         NaN         NaN        1052        NaN  1721   \n",
      "2              NaN         NaN         NaN        8022        NaN   921   \n",
      "3              NaN         NaN         NaN        2363     2050.0  2106   \n",
      "4              NaN         NaN         NaN        3066        NaN  1296   \n",
      "...            ...         ...         ...         ...        ...   ...   \n",
      "199778         NaN         NaN         NaN       58100        NaN   461   \n",
      "199779         NaN         NaN         NaN        1647        NaN  1307   \n",
      "199780         NaN         NaN         NaN        9641        NaN  1277   \n",
      "199781         NaN         NaN         NaN      123250        NaN  1508   \n",
      "199782         NaN         NaN         NaN      371244        NaN  1435   \n",
      "\n",
      "              timezone modification date  \n",
      "0       Europe/Andorra        2017-11-06  \n",
      "1       Europe/Andorra        2012-11-03  \n",
      "2       Europe/Andorra        2013-11-23  \n",
      "3       Europe/Andorra        2008-06-09  \n",
      "4       Europe/Andorra        2018-10-26  \n",
      "...                ...               ...  \n",
      "199778   Africa/Harare        2022-10-07  \n",
      "199779   Africa/Harare        2018-05-09  \n",
      "199780   Africa/Harare        2013-03-12  \n",
      "199781   Africa/Harare        2012-01-19  \n",
      "199782   Africa/Harare        2022-10-05  \n",
      "\n",
      "[199783 rows x 19 columns]\n"
     ]
    }
   ],
   "source": [
    "\n",
    "with ZipFile(BytesIO(response.content)) as zf:\n",
    "    with zf.open('cities500.txt') as file:\n",
    "        # Read the .txt file, but treat it as a CSV\n",
    "        columns = ['geonameid', 'name', 'asciiname', 'alternatenames', 'latitude', 'longitude', \n",
    "                   'feature class', 'feature code', 'country code', 'cc2', 'admin1 code', 'admin2 code', \n",
    "                   'admin3 code', 'admin4 code', 'population', 'elevation', 'dem', 'timezone', 'modification date']\n",
    "        dtype_dict = {\n",
    "            'geonameid': int,\n",
    "            'name': str,\n",
    "            'latitude': float,\n",
    "            'longitude': float,\n",
    "            'population': int\n",
    "        }\n",
    "        df = pd.read_csv(file, sep='\\t', header=None, names=columns, dtype=dtype_dict, low_memory=False)\n",
    "print(df)"
   ]
  },
  {
   "cell_type": "code",
   "execution_count": 5,
   "metadata": {},
   "outputs": [],
   "source": [
    "#df[df['name'].str.contains('New York',na=False)]\n",
    "nyc_entry=df[df['name'] == 'New York City'].iloc[0]\n",
    "nyc=(nyc_entry['latitude'],nyc_entry['longitude'])\n",
    "nyc\n",
    "# Calculate distances and filter cities\n",
    "df['distance_from_nyc'] = df.apply(lambda row: geodesic(nyc, (float(row['latitude']), float(row['longitude']))).miles, axis=1)\n"
   ]
  },
  {
   "cell_type": "code",
   "execution_count": 9,
   "metadata": {},
   "outputs": [
    {
     "name": "stdout",
     "output_type": "stream",
     "text": [
      "                name  distance_from_nyc  population\n",
      "17553     Lubumbashi        7340.665459     1373770\n",
      "20898       Shangqiu        7222.313798     1536392\n",
      "21060      Zhengzhou        7214.649726     4253913\n",
      "21168         Anyang        7118.440115     1146839\n",
      "21240        Kunshan        7379.329659     2092496\n",
      "21489         Yixing        7393.645540     1285785\n",
      "21583       Yangzhou        7327.665523     1584237\n",
      "21608   Zhangjiagang        7351.353875     1432044\n",
      "21681       Yancheng        7254.808553     1615717\n",
      "21745        Xuchang        7263.111077     1265536\n",
      "21842        Xinyang        7392.608059     1230042\n",
      "21851       Xinxiang        7184.086301     1047088\n",
      "21915         Xining        7101.821158     1677177\n",
      "22212       Xianyang        7263.423079     1034081\n",
      "22285          Xi’an        7268.396866     9600000\n",
      "22352           Wuxi        7374.254725     4396835\n",
      "22494         Weinan        7250.050454     1199290\n",
      "22721       Tianshui        7249.601650     1212791\n",
      "22862        Taizhou        7316.206312     1607108\n",
      "22916         Suzhou        7267.171627     1647642\n",
      "22919         Suqian        7233.900094     1437685\n",
      "23142         Shiyan        7373.593952     3460000\n",
      "23426       Shanghai        7383.628308    22315474\n",
      "23764        Huai'an        7251.244231     2494013\n",
      "24089        Nanyang        7341.801991     1811812\n",
      "24105        Nantong        7336.249915     2273326\n",
      "24155        Nanjing        7357.299270     9314685\n",
      "24508        Luoyang        7226.263606     1390581\n",
      "24547          Luohe        7294.049988     1294974\n",
      "24812          Linyi        7157.745047     2743843\n",
      "25033        Lanzhou        7146.007628     3000000\n",
      "25125        Kaifeng        7207.790796     1451741\n",
      "25255         Jining        7149.861739     1241012\n",
      "25729        Huainan        7335.814654     1666826\n",
      "25737        Huaibei        7245.702837     1113321\n",
      "25816           Heze        7169.663467     1346717\n",
      "25936          Hefei        7385.207057     5050000\n",
      "25963       Hanzhong        7352.894393     1006557\n",
      "25985       Changzhi        7119.891042     1214940\n",
      "26362         Fuyang        7326.924069     1768947\n",
      "27189       Jiangyin        7351.423984     1779515\n",
      "27229      Changzhou        7364.210159     3290918\n",
      "27397         Bozhou        7260.538395     1409436\n",
      "27829         Suzhou        7388.569066     6715559\n",
      "31741       Changshu        7363.744013     1677050\n",
      "35203         Xuzhou        7225.804065     1253991\n",
      "35207    Lianyungang        7180.747058     2001009\n",
      "35210          Baoji        7263.619992     1437802\n",
      "98920      Najafgarh        7312.846744     1365000\n",
      "99057         Meerut        7305.800257     1223184\n",
      "99245       Ludhiāna        7140.408593     1545368\n",
      "99802         Jaipur        7391.558683     2711758\n",
      "99995      Gorakhpur        7228.916187     1324570\n",
      "100040     Ghāziābād        7319.834371     1199191\n",
      "100126     Faridabad        7333.156162     1220229\n",
      "100280         Delhi        7315.932084    10927986\n",
      "115300       Nairobi        7362.857990     2750547\n",
      "115357      Kakamega        7184.763014     1867579\n",
      "147986       Karachi        7274.065297    11624219\n",
      "148029     Hyderabad        7283.462548     1386330\n"
     ]
    }
   ],
   "source": [
    "filtered_cities = df[(df['distance_from_nyc'] >= 7100) & (df['distance_from_nyc'] <= 7400) & (df['population'].astype(int) > 1000000)]\n",
    "print(filtered_cities[['name', 'distance_from_nyc','population']])\n"
   ]
  },
  {
   "cell_type": "code",
   "execution_count": 7,
   "metadata": {},
   "outputs": [
    {
     "name": "stdout",
     "output_type": "stream",
     "text": [
      "                name  distance_from_nyc  population\n",
      "17553     Lubumbashi        7340.665459     1373770\n",
      "20898       Shangqiu        7222.313798     1536392\n",
      "21060      Zhengzhou        7214.649726     4253913\n",
      "21168         Anyang        7118.440115     1146839\n",
      "21240        Kunshan        7379.329659     2092496\n",
      "21489         Yixing        7393.645540     1285785\n",
      "21583       Yangzhou        7327.665523     1584237\n",
      "21608   Zhangjiagang        7351.353875     1432044\n",
      "21681       Yancheng        7254.808553     1615717\n",
      "21745        Xuchang        7263.111077     1265536\n",
      "21842        Xinyang        7392.608059     1230042\n",
      "21851       Xinxiang        7184.086301     1047088\n",
      "21915         Xining        7101.821158     1677177\n",
      "22212       Xianyang        7263.423079     1034081\n",
      "22285          Xi’an        7268.396866     9600000\n",
      "22352           Wuxi        7374.254725     4396835\n",
      "22494         Weinan        7250.050454     1199290\n",
      "22721       Tianshui        7249.601650     1212791\n",
      "22862        Taizhou        7316.206312     1607108\n",
      "22916         Suzhou        7267.171627     1647642\n",
      "22919         Suqian        7233.900094     1437685\n",
      "23142         Shiyan        7373.593952     3460000\n",
      "23426       Shanghai        7383.628308    22315474\n",
      "23764        Huai'an        7251.244231     2494013\n",
      "24089        Nanyang        7341.801991     1811812\n",
      "24105        Nantong        7336.249915     2273326\n",
      "24155        Nanjing        7357.299270     9314685\n",
      "24508        Luoyang        7226.263606     1390581\n",
      "24547          Luohe        7294.049988     1294974\n",
      "24812          Linyi        7157.745047     2743843\n",
      "25033        Lanzhou        7146.007628     3000000\n",
      "25125        Kaifeng        7207.790796     1451741\n",
      "25255         Jining        7149.861739     1241012\n",
      "25729        Huainan        7335.814654     1666826\n",
      "25737        Huaibei        7245.702837     1113321\n",
      "25816           Heze        7169.663467     1346717\n",
      "25936          Hefei        7385.207057     5050000\n",
      "25963       Hanzhong        7352.894393     1006557\n",
      "25985       Changzhi        7119.891042     1214940\n",
      "26362         Fuyang        7326.924069     1768947\n",
      "27189       Jiangyin        7351.423984     1779515\n",
      "27229      Changzhou        7364.210159     3290918\n",
      "27397         Bozhou        7260.538395     1409436\n",
      "27829         Suzhou        7388.569066     6715559\n",
      "31741       Changshu        7363.744013     1677050\n",
      "35203         Xuzhou        7225.804065     1253991\n",
      "35207    Lianyungang        7180.747058     2001009\n",
      "35210          Baoji        7263.619992     1437802\n",
      "98920      Najafgarh        7312.846744     1365000\n",
      "99057         Meerut        7305.800257     1223184\n",
      "99245       Ludhiāna        7140.408593     1545368\n",
      "99802         Jaipur        7391.558683     2711758\n",
      "99995      Gorakhpur        7228.916187     1324570\n",
      "100040     Ghāziābād        7319.834371     1199191\n",
      "100126     Faridabad        7333.156162     1220229\n",
      "100280         Delhi        7315.932084    10927986\n",
      "115300       Nairobi        7362.857990     2750547\n",
      "115357      Kakamega        7184.763014     1867579\n",
      "147986       Karachi        7274.065297    11624219\n",
      "148029     Hyderabad        7283.462548     1386330\n"
     ]
    }
   ],
   "source": []
  },
  {
   "cell_type": "code",
   "execution_count": 8,
   "metadata": {},
   "outputs": [],
   "source": [
    "# Create a map centered around NYC\n",
    "m = folium.Map(location=[40.7128, -74.0060], zoom_start=2)\n",
    "\n",
    "# Add markers for each city\n",
    "for index, row in filtered_cities.iterrows():\n",
    "    folium.Marker(\n",
    "        location=[row['latitude'], row['longitude']],\n",
    "        popup=row['name'],\n",
    "        icon=folium.Icon(icon=\"cloud\"),\n",
    "    ).add_to(m)\n",
    "\n",
    "# Save the map to an HTML file (or display it in a Jupyter notebook)\n",
    "m.save('filtered_cities_map.html')"
   ]
  },
  {
   "cell_type": "code",
   "execution_count": 16,
   "metadata": {},
   "outputs": [
    {
     "data": {
      "application/vnd.plotly.v1+json": {
       "config": {
        "plotlyServerURL": "https://plot.ly"
       },
       "data": [
        {
         "geo": "geo",
         "hovertemplate": "<b>%{hovertext}</b><br><br>population=%{marker.size}<br>latitude=%{lat}<br>longitude=%{lon}<extra></extra>",
         "hovertext": [
          "Lubumbashi",
          "Shangqiu",
          "Zhengzhou",
          "Anyang",
          "Kunshan",
          "Yixing",
          "Yangzhou",
          "Zhangjiagang",
          "Yancheng",
          "Xuchang",
          "Xinyang",
          "Xinxiang",
          "Xining",
          "Xianyang",
          "Xi’an",
          "Wuxi",
          "Weinan",
          "Tianshui",
          "Taizhou",
          "Suzhou",
          "Suqian",
          "Shiyan",
          "Shanghai",
          "Huai'an",
          "Nanyang",
          "Nantong",
          "Nanjing",
          "Luoyang",
          "Luohe",
          "Linyi",
          "Lanzhou",
          "Kaifeng",
          "Jining",
          "Huainan",
          "Huaibei",
          "Heze",
          "Hefei",
          "Hanzhong",
          "Changzhi",
          "Fuyang",
          "Jiangyin",
          "Changzhou",
          "Bozhou",
          "Suzhou",
          "Changshu",
          "Xuzhou",
          "Lianyungang",
          "Baoji",
          "Najafgarh",
          "Meerut",
          "Ludhiāna",
          "Jaipur",
          "Gorakhpur",
          "Ghāziābād",
          "Faridabad",
          "Delhi",
          "Nairobi",
          "Kakamega",
          "Karachi",
          "Hyderabad"
         ],
         "lat": [
          -11.66089,
          34.45,
          34.75778,
          36.096,
          31.37762,
          31.36059,
          32.39722,
          31.865,
          33.3575,
          34.03189,
          32.12278,
          35.19033,
          36.62554,
          34.33778,
          34.25833,
          31.56887,
          34.50355,
          34.57952,
          32.49069,
          33.63611,
          33.94917,
          32.6475,
          31.22222,
          33.58861,
          32.99472,
          32.03028,
          32.06167,
          34.68361,
          33.56394,
          35.06306,
          36.05701,
          34.7986,
          35.405,
          32.62639,
          33.97444,
          35.23929,
          31.86389,
          33.07507,
          36.18389,
          32.9,
          31.91102,
          31.77359,
          33.87722,
          31.30408,
          31.64615,
          34.20442,
          34.59845,
          34.36775,
          28.60922,
          28.98002,
          30.91204,
          26.91962,
          29.44768,
          28.66535,
          28.41124,
          28.65195,
          -1.28333,
          0.28422,
          24.8608,
          25.39689
         ],
         "legendgroup": "",
         "lon": [
          27.47938,
          115.65,
          113.64861,
          114.38278,
          120.95431,
          119.82016,
          119.43583,
          120.53889,
          120.1573,
          113.86299,
          114.06556,
          113.80151,
          101.75739,
          108.70261,
          108.92861,
          120.28857,
          109.50891,
          105.74238,
          119.90812,
          116.97889,
          118.29583,
          110.77806,
          121.45806,
          119.01917,
          112.53278,
          120.87472,
          118.77778,
          112.45361,
          114.04272,
          118.34278,
          103.83987,
          114.30742,
          116.58139,
          116.99694,
          116.79167,
          115.47358,
          117.28083,
          107.02214,
          113.10528,
          115.81667,
          120.26302,
          119.95401,
          115.77028,
          120.59538,
          120.74221,
          117.28386,
          119.21556,
          107.23705,
          76.97982,
          77.70636,
          75.85379,
          75.78781,
          75.67206,
          77.43915,
          77.31316,
          77.23149,
          36.81667,
          34.75229,
          67.0104,
          68.37718
         ],
         "marker": {
          "color": "#636efa",
          "size": [
           1373770,
           1536392,
           4253913,
           1146839,
           2092496,
           1285785,
           1584237,
           1432044,
           1615717,
           1265536,
           1230042,
           1047088,
           1677177,
           1034081,
           9600000,
           4396835,
           1199290,
           1212791,
           1607108,
           1647642,
           1437685,
           3460000,
           22315474,
           2494013,
           1811812,
           2273326,
           9314685,
           1390581,
           1294974,
           2743843,
           3000000,
           1451741,
           1241012,
           1666826,
           1113321,
           1346717,
           5050000,
           1006557,
           1214940,
           1768947,
           1779515,
           3290918,
           1409436,
           6715559,
           1677050,
           1253991,
           2001009,
           1437802,
           1365000,
           1223184,
           1545368,
           2711758,
           1324570,
           1199191,
           1220229,
           10927986,
           2750547,
           1867579,
           11624219,
           1386330
          ],
          "sizemode": "area",
          "sizeref": 8926.1896,
          "symbol": "circle"
         },
         "mode": "markers",
         "name": "",
         "showlegend": false,
         "type": "scattergeo"
        }
       ],
       "layout": {
        "geo": {
         "center": {},
         "domain": {
          "x": [
           0,
           1
          ],
          "y": [
           0,
           1
          ]
         },
         "projection": {
          "type": "orthographic"
         }
        },
        "legend": {
         "itemsizing": "constant",
         "tracegroupgap": 0
        },
        "template": {
         "data": {
          "bar": [
           {
            "error_x": {
             "color": "#2a3f5f"
            },
            "error_y": {
             "color": "#2a3f5f"
            },
            "marker": {
             "line": {
              "color": "#E5ECF6",
              "width": 0.5
             },
             "pattern": {
              "fillmode": "overlay",
              "size": 10,
              "solidity": 0.2
             }
            },
            "type": "bar"
           }
          ],
          "barpolar": [
           {
            "marker": {
             "line": {
              "color": "#E5ECF6",
              "width": 0.5
             },
             "pattern": {
              "fillmode": "overlay",
              "size": 10,
              "solidity": 0.2
             }
            },
            "type": "barpolar"
           }
          ],
          "carpet": [
           {
            "aaxis": {
             "endlinecolor": "#2a3f5f",
             "gridcolor": "white",
             "linecolor": "white",
             "minorgridcolor": "white",
             "startlinecolor": "#2a3f5f"
            },
            "baxis": {
             "endlinecolor": "#2a3f5f",
             "gridcolor": "white",
             "linecolor": "white",
             "minorgridcolor": "white",
             "startlinecolor": "#2a3f5f"
            },
            "type": "carpet"
           }
          ],
          "choropleth": [
           {
            "colorbar": {
             "outlinewidth": 0,
             "ticks": ""
            },
            "type": "choropleth"
           }
          ],
          "contour": [
           {
            "colorbar": {
             "outlinewidth": 0,
             "ticks": ""
            },
            "colorscale": [
             [
              0,
              "#0d0887"
             ],
             [
              0.1111111111111111,
              "#46039f"
             ],
             [
              0.2222222222222222,
              "#7201a8"
             ],
             [
              0.3333333333333333,
              "#9c179e"
             ],
             [
              0.4444444444444444,
              "#bd3786"
             ],
             [
              0.5555555555555556,
              "#d8576b"
             ],
             [
              0.6666666666666666,
              "#ed7953"
             ],
             [
              0.7777777777777778,
              "#fb9f3a"
             ],
             [
              0.8888888888888888,
              "#fdca26"
             ],
             [
              1,
              "#f0f921"
             ]
            ],
            "type": "contour"
           }
          ],
          "contourcarpet": [
           {
            "colorbar": {
             "outlinewidth": 0,
             "ticks": ""
            },
            "type": "contourcarpet"
           }
          ],
          "heatmap": [
           {
            "colorbar": {
             "outlinewidth": 0,
             "ticks": ""
            },
            "colorscale": [
             [
              0,
              "#0d0887"
             ],
             [
              0.1111111111111111,
              "#46039f"
             ],
             [
              0.2222222222222222,
              "#7201a8"
             ],
             [
              0.3333333333333333,
              "#9c179e"
             ],
             [
              0.4444444444444444,
              "#bd3786"
             ],
             [
              0.5555555555555556,
              "#d8576b"
             ],
             [
              0.6666666666666666,
              "#ed7953"
             ],
             [
              0.7777777777777778,
              "#fb9f3a"
             ],
             [
              0.8888888888888888,
              "#fdca26"
             ],
             [
              1,
              "#f0f921"
             ]
            ],
            "type": "heatmap"
           }
          ],
          "heatmapgl": [
           {
            "colorbar": {
             "outlinewidth": 0,
             "ticks": ""
            },
            "colorscale": [
             [
              0,
              "#0d0887"
             ],
             [
              0.1111111111111111,
              "#46039f"
             ],
             [
              0.2222222222222222,
              "#7201a8"
             ],
             [
              0.3333333333333333,
              "#9c179e"
             ],
             [
              0.4444444444444444,
              "#bd3786"
             ],
             [
              0.5555555555555556,
              "#d8576b"
             ],
             [
              0.6666666666666666,
              "#ed7953"
             ],
             [
              0.7777777777777778,
              "#fb9f3a"
             ],
             [
              0.8888888888888888,
              "#fdca26"
             ],
             [
              1,
              "#f0f921"
             ]
            ],
            "type": "heatmapgl"
           }
          ],
          "histogram": [
           {
            "marker": {
             "pattern": {
              "fillmode": "overlay",
              "size": 10,
              "solidity": 0.2
             }
            },
            "type": "histogram"
           }
          ],
          "histogram2d": [
           {
            "colorbar": {
             "outlinewidth": 0,
             "ticks": ""
            },
            "colorscale": [
             [
              0,
              "#0d0887"
             ],
             [
              0.1111111111111111,
              "#46039f"
             ],
             [
              0.2222222222222222,
              "#7201a8"
             ],
             [
              0.3333333333333333,
              "#9c179e"
             ],
             [
              0.4444444444444444,
              "#bd3786"
             ],
             [
              0.5555555555555556,
              "#d8576b"
             ],
             [
              0.6666666666666666,
              "#ed7953"
             ],
             [
              0.7777777777777778,
              "#fb9f3a"
             ],
             [
              0.8888888888888888,
              "#fdca26"
             ],
             [
              1,
              "#f0f921"
             ]
            ],
            "type": "histogram2d"
           }
          ],
          "histogram2dcontour": [
           {
            "colorbar": {
             "outlinewidth": 0,
             "ticks": ""
            },
            "colorscale": [
             [
              0,
              "#0d0887"
             ],
             [
              0.1111111111111111,
              "#46039f"
             ],
             [
              0.2222222222222222,
              "#7201a8"
             ],
             [
              0.3333333333333333,
              "#9c179e"
             ],
             [
              0.4444444444444444,
              "#bd3786"
             ],
             [
              0.5555555555555556,
              "#d8576b"
             ],
             [
              0.6666666666666666,
              "#ed7953"
             ],
             [
              0.7777777777777778,
              "#fb9f3a"
             ],
             [
              0.8888888888888888,
              "#fdca26"
             ],
             [
              1,
              "#f0f921"
             ]
            ],
            "type": "histogram2dcontour"
           }
          ],
          "mesh3d": [
           {
            "colorbar": {
             "outlinewidth": 0,
             "ticks": ""
            },
            "type": "mesh3d"
           }
          ],
          "parcoords": [
           {
            "line": {
             "colorbar": {
              "outlinewidth": 0,
              "ticks": ""
             }
            },
            "type": "parcoords"
           }
          ],
          "pie": [
           {
            "automargin": true,
            "type": "pie"
           }
          ],
          "scatter": [
           {
            "fillpattern": {
             "fillmode": "overlay",
             "size": 10,
             "solidity": 0.2
            },
            "type": "scatter"
           }
          ],
          "scatter3d": [
           {
            "line": {
             "colorbar": {
              "outlinewidth": 0,
              "ticks": ""
             }
            },
            "marker": {
             "colorbar": {
              "outlinewidth": 0,
              "ticks": ""
             }
            },
            "type": "scatter3d"
           }
          ],
          "scattercarpet": [
           {
            "marker": {
             "colorbar": {
              "outlinewidth": 0,
              "ticks": ""
             }
            },
            "type": "scattercarpet"
           }
          ],
          "scattergeo": [
           {
            "marker": {
             "colorbar": {
              "outlinewidth": 0,
              "ticks": ""
             }
            },
            "type": "scattergeo"
           }
          ],
          "scattergl": [
           {
            "marker": {
             "colorbar": {
              "outlinewidth": 0,
              "ticks": ""
             }
            },
            "type": "scattergl"
           }
          ],
          "scattermapbox": [
           {
            "marker": {
             "colorbar": {
              "outlinewidth": 0,
              "ticks": ""
             }
            },
            "type": "scattermapbox"
           }
          ],
          "scatterpolar": [
           {
            "marker": {
             "colorbar": {
              "outlinewidth": 0,
              "ticks": ""
             }
            },
            "type": "scatterpolar"
           }
          ],
          "scatterpolargl": [
           {
            "marker": {
             "colorbar": {
              "outlinewidth": 0,
              "ticks": ""
             }
            },
            "type": "scatterpolargl"
           }
          ],
          "scatterternary": [
           {
            "marker": {
             "colorbar": {
              "outlinewidth": 0,
              "ticks": ""
             }
            },
            "type": "scatterternary"
           }
          ],
          "surface": [
           {
            "colorbar": {
             "outlinewidth": 0,
             "ticks": ""
            },
            "colorscale": [
             [
              0,
              "#0d0887"
             ],
             [
              0.1111111111111111,
              "#46039f"
             ],
             [
              0.2222222222222222,
              "#7201a8"
             ],
             [
              0.3333333333333333,
              "#9c179e"
             ],
             [
              0.4444444444444444,
              "#bd3786"
             ],
             [
              0.5555555555555556,
              "#d8576b"
             ],
             [
              0.6666666666666666,
              "#ed7953"
             ],
             [
              0.7777777777777778,
              "#fb9f3a"
             ],
             [
              0.8888888888888888,
              "#fdca26"
             ],
             [
              1,
              "#f0f921"
             ]
            ],
            "type": "surface"
           }
          ],
          "table": [
           {
            "cells": {
             "fill": {
              "color": "#EBF0F8"
             },
             "line": {
              "color": "white"
             }
            },
            "header": {
             "fill": {
              "color": "#C8D4E3"
             },
             "line": {
              "color": "white"
             }
            },
            "type": "table"
           }
          ]
         },
         "layout": {
          "annotationdefaults": {
           "arrowcolor": "#2a3f5f",
           "arrowhead": 0,
           "arrowwidth": 1
          },
          "autotypenumbers": "strict",
          "coloraxis": {
           "colorbar": {
            "outlinewidth": 0,
            "ticks": ""
           }
          },
          "colorscale": {
           "diverging": [
            [
             0,
             "#8e0152"
            ],
            [
             0.1,
             "#c51b7d"
            ],
            [
             0.2,
             "#de77ae"
            ],
            [
             0.3,
             "#f1b6da"
            ],
            [
             0.4,
             "#fde0ef"
            ],
            [
             0.5,
             "#f7f7f7"
            ],
            [
             0.6,
             "#e6f5d0"
            ],
            [
             0.7,
             "#b8e186"
            ],
            [
             0.8,
             "#7fbc41"
            ],
            [
             0.9,
             "#4d9221"
            ],
            [
             1,
             "#276419"
            ]
           ],
           "sequential": [
            [
             0,
             "#0d0887"
            ],
            [
             0.1111111111111111,
             "#46039f"
            ],
            [
             0.2222222222222222,
             "#7201a8"
            ],
            [
             0.3333333333333333,
             "#9c179e"
            ],
            [
             0.4444444444444444,
             "#bd3786"
            ],
            [
             0.5555555555555556,
             "#d8576b"
            ],
            [
             0.6666666666666666,
             "#ed7953"
            ],
            [
             0.7777777777777778,
             "#fb9f3a"
            ],
            [
             0.8888888888888888,
             "#fdca26"
            ],
            [
             1,
             "#f0f921"
            ]
           ],
           "sequentialminus": [
            [
             0,
             "#0d0887"
            ],
            [
             0.1111111111111111,
             "#46039f"
            ],
            [
             0.2222222222222222,
             "#7201a8"
            ],
            [
             0.3333333333333333,
             "#9c179e"
            ],
            [
             0.4444444444444444,
             "#bd3786"
            ],
            [
             0.5555555555555556,
             "#d8576b"
            ],
            [
             0.6666666666666666,
             "#ed7953"
            ],
            [
             0.7777777777777778,
             "#fb9f3a"
            ],
            [
             0.8888888888888888,
             "#fdca26"
            ],
            [
             1,
             "#f0f921"
            ]
           ]
          },
          "colorway": [
           "#636efa",
           "#EF553B",
           "#00cc96",
           "#ab63fa",
           "#FFA15A",
           "#19d3f3",
           "#FF6692",
           "#B6E880",
           "#FF97FF",
           "#FECB52"
          ],
          "font": {
           "color": "#2a3f5f"
          },
          "geo": {
           "bgcolor": "white",
           "lakecolor": "white",
           "landcolor": "#E5ECF6",
           "showlakes": true,
           "showland": true,
           "subunitcolor": "white"
          },
          "hoverlabel": {
           "align": "left"
          },
          "hovermode": "closest",
          "mapbox": {
           "style": "light"
          },
          "paper_bgcolor": "white",
          "plot_bgcolor": "#E5ECF6",
          "polar": {
           "angularaxis": {
            "gridcolor": "white",
            "linecolor": "white",
            "ticks": ""
           },
           "bgcolor": "#E5ECF6",
           "radialaxis": {
            "gridcolor": "white",
            "linecolor": "white",
            "ticks": ""
           }
          },
          "scene": {
           "xaxis": {
            "backgroundcolor": "#E5ECF6",
            "gridcolor": "white",
            "gridwidth": 2,
            "linecolor": "white",
            "showbackground": true,
            "ticks": "",
            "zerolinecolor": "white"
           },
           "yaxis": {
            "backgroundcolor": "#E5ECF6",
            "gridcolor": "white",
            "gridwidth": 2,
            "linecolor": "white",
            "showbackground": true,
            "ticks": "",
            "zerolinecolor": "white"
           },
           "zaxis": {
            "backgroundcolor": "#E5ECF6",
            "gridcolor": "white",
            "gridwidth": 2,
            "linecolor": "white",
            "showbackground": true,
            "ticks": "",
            "zerolinecolor": "white"
           }
          },
          "shapedefaults": {
           "line": {
            "color": "#2a3f5f"
           }
          },
          "ternary": {
           "aaxis": {
            "gridcolor": "white",
            "linecolor": "white",
            "ticks": ""
           },
           "baxis": {
            "gridcolor": "white",
            "linecolor": "white",
            "ticks": ""
           },
           "bgcolor": "#E5ECF6",
           "caxis": {
            "gridcolor": "white",
            "linecolor": "white",
            "ticks": ""
           }
          },
          "title": {
           "x": 0.05
          },
          "xaxis": {
           "automargin": true,
           "gridcolor": "white",
           "linecolor": "white",
           "ticks": "",
           "title": {
            "standoff": 15
           },
           "zerolinecolor": "white",
           "zerolinewidth": 2
          },
          "yaxis": {
           "automargin": true,
           "gridcolor": "white",
           "linecolor": "white",
           "ticks": "",
           "title": {
            "standoff": 15
           },
           "zerolinecolor": "white",
           "zerolinewidth": 2
          }
         }
        },
        "title": {
         "text": "Cities 7200 to 7400 miles from NYC with Population > 500k"
        }
       }
      },
      "text/html": [
       "<div>                            <div id=\"b5540603-c1cb-4a80-8cb7-b5f802601652\" class=\"plotly-graph-div\" style=\"height:525px; width:100%;\"></div>            <script type=\"text/javascript\">                require([\"plotly\"], function(Plotly) {                    window.PLOTLYENV=window.PLOTLYENV || {};                                    if (document.getElementById(\"b5540603-c1cb-4a80-8cb7-b5f802601652\")) {                    Plotly.newPlot(                        \"b5540603-c1cb-4a80-8cb7-b5f802601652\",                        [{\"geo\":\"geo\",\"hovertemplate\":\"\\u003cb\\u003e%{hovertext}\\u003c\\u002fb\\u003e\\u003cbr\\u003e\\u003cbr\\u003epopulation=%{marker.size}\\u003cbr\\u003elatitude=%{lat}\\u003cbr\\u003elongitude=%{lon}\\u003cextra\\u003e\\u003c\\u002fextra\\u003e\",\"hovertext\":[\"Lubumbashi\",\"Shangqiu\",\"Zhengzhou\",\"Anyang\",\"Kunshan\",\"Yixing\",\"Yangzhou\",\"Zhangjiagang\",\"Yancheng\",\"Xuchang\",\"Xinyang\",\"Xinxiang\",\"Xining\",\"Xianyang\",\"Xi\\u2019an\",\"Wuxi\",\"Weinan\",\"Tianshui\",\"Taizhou\",\"Suzhou\",\"Suqian\",\"Shiyan\",\"Shanghai\",\"Huai'an\",\"Nanyang\",\"Nantong\",\"Nanjing\",\"Luoyang\",\"Luohe\",\"Linyi\",\"Lanzhou\",\"Kaifeng\",\"Jining\",\"Huainan\",\"Huaibei\",\"Heze\",\"Hefei\",\"Hanzhong\",\"Changzhi\",\"Fuyang\",\"Jiangyin\",\"Changzhou\",\"Bozhou\",\"Suzhou\",\"Changshu\",\"Xuzhou\",\"Lianyungang\",\"Baoji\",\"Najafgarh\",\"Meerut\",\"Ludhi\\u0101na\",\"Jaipur\",\"Gorakhpur\",\"Gh\\u0101zi\\u0101b\\u0101d\",\"Faridabad\",\"Delhi\",\"Nairobi\",\"Kakamega\",\"Karachi\",\"Hyderabad\"],\"lat\":[-11.66089,34.45,34.75778,36.096,31.37762,31.36059,32.39722,31.865,33.3575,34.03189,32.12278,35.19033,36.62554,34.33778,34.25833,31.56887,34.50355,34.57952,32.49069,33.63611,33.94917,32.6475,31.22222,33.58861,32.99472,32.03028,32.06167,34.68361,33.56394,35.06306,36.05701,34.7986,35.405,32.62639,33.97444,35.23929,31.86389,33.07507,36.18389,32.9,31.91102,31.77359,33.87722,31.30408,31.64615,34.20442,34.59845,34.36775,28.60922,28.98002,30.91204,26.91962,29.44768,28.66535,28.41124,28.65195,-1.28333,0.28422,24.8608,25.39689],\"legendgroup\":\"\",\"lon\":[27.47938,115.65,113.64861,114.38278,120.95431,119.82016,119.43583,120.53889,120.1573,113.86299,114.06556,113.80151,101.75739,108.70261,108.92861,120.28857,109.50891,105.74238,119.90812,116.97889,118.29583,110.77806,121.45806,119.01917,112.53278,120.87472,118.77778,112.45361,114.04272,118.34278,103.83987,114.30742,116.58139,116.99694,116.79167,115.47358,117.28083,107.02214,113.10528,115.81667,120.26302,119.95401,115.77028,120.59538,120.74221,117.28386,119.21556,107.23705,76.97982,77.70636,75.85379,75.78781,75.67206,77.43915,77.31316,77.23149,36.81667,34.75229,67.0104,68.37718],\"marker\":{\"color\":\"#636efa\",\"size\":[1373770,1536392,4253913,1146839,2092496,1285785,1584237,1432044,1615717,1265536,1230042,1047088,1677177,1034081,9600000,4396835,1199290,1212791,1607108,1647642,1437685,3460000,22315474,2494013,1811812,2273326,9314685,1390581,1294974,2743843,3000000,1451741,1241012,1666826,1113321,1346717,5050000,1006557,1214940,1768947,1779515,3290918,1409436,6715559,1677050,1253991,2001009,1437802,1365000,1223184,1545368,2711758,1324570,1199191,1220229,10927986,2750547,1867579,11624219,1386330],\"sizemode\":\"area\",\"sizeref\":8926.1896,\"symbol\":\"circle\"},\"mode\":\"markers\",\"name\":\"\",\"showlegend\":false,\"type\":\"scattergeo\"}],                        {\"template\":{\"data\":{\"histogram2dcontour\":[{\"type\":\"histogram2dcontour\",\"colorbar\":{\"outlinewidth\":0,\"ticks\":\"\"},\"colorscale\":[[0.0,\"#0d0887\"],[0.1111111111111111,\"#46039f\"],[0.2222222222222222,\"#7201a8\"],[0.3333333333333333,\"#9c179e\"],[0.4444444444444444,\"#bd3786\"],[0.5555555555555556,\"#d8576b\"],[0.6666666666666666,\"#ed7953\"],[0.7777777777777778,\"#fb9f3a\"],[0.8888888888888888,\"#fdca26\"],[1.0,\"#f0f921\"]]}],\"choropleth\":[{\"type\":\"choropleth\",\"colorbar\":{\"outlinewidth\":0,\"ticks\":\"\"}}],\"histogram2d\":[{\"type\":\"histogram2d\",\"colorbar\":{\"outlinewidth\":0,\"ticks\":\"\"},\"colorscale\":[[0.0,\"#0d0887\"],[0.1111111111111111,\"#46039f\"],[0.2222222222222222,\"#7201a8\"],[0.3333333333333333,\"#9c179e\"],[0.4444444444444444,\"#bd3786\"],[0.5555555555555556,\"#d8576b\"],[0.6666666666666666,\"#ed7953\"],[0.7777777777777778,\"#fb9f3a\"],[0.8888888888888888,\"#fdca26\"],[1.0,\"#f0f921\"]]}],\"heatmap\":[{\"type\":\"heatmap\",\"colorbar\":{\"outlinewidth\":0,\"ticks\":\"\"},\"colorscale\":[[0.0,\"#0d0887\"],[0.1111111111111111,\"#46039f\"],[0.2222222222222222,\"#7201a8\"],[0.3333333333333333,\"#9c179e\"],[0.4444444444444444,\"#bd3786\"],[0.5555555555555556,\"#d8576b\"],[0.6666666666666666,\"#ed7953\"],[0.7777777777777778,\"#fb9f3a\"],[0.8888888888888888,\"#fdca26\"],[1.0,\"#f0f921\"]]}],\"heatmapgl\":[{\"type\":\"heatmapgl\",\"colorbar\":{\"outlinewidth\":0,\"ticks\":\"\"},\"colorscale\":[[0.0,\"#0d0887\"],[0.1111111111111111,\"#46039f\"],[0.2222222222222222,\"#7201a8\"],[0.3333333333333333,\"#9c179e\"],[0.4444444444444444,\"#bd3786\"],[0.5555555555555556,\"#d8576b\"],[0.6666666666666666,\"#ed7953\"],[0.7777777777777778,\"#fb9f3a\"],[0.8888888888888888,\"#fdca26\"],[1.0,\"#f0f921\"]]}],\"contourcarpet\":[{\"type\":\"contourcarpet\",\"colorbar\":{\"outlinewidth\":0,\"ticks\":\"\"}}],\"contour\":[{\"type\":\"contour\",\"colorbar\":{\"outlinewidth\":0,\"ticks\":\"\"},\"colorscale\":[[0.0,\"#0d0887\"],[0.1111111111111111,\"#46039f\"],[0.2222222222222222,\"#7201a8\"],[0.3333333333333333,\"#9c179e\"],[0.4444444444444444,\"#bd3786\"],[0.5555555555555556,\"#d8576b\"],[0.6666666666666666,\"#ed7953\"],[0.7777777777777778,\"#fb9f3a\"],[0.8888888888888888,\"#fdca26\"],[1.0,\"#f0f921\"]]}],\"surface\":[{\"type\":\"surface\",\"colorbar\":{\"outlinewidth\":0,\"ticks\":\"\"},\"colorscale\":[[0.0,\"#0d0887\"],[0.1111111111111111,\"#46039f\"],[0.2222222222222222,\"#7201a8\"],[0.3333333333333333,\"#9c179e\"],[0.4444444444444444,\"#bd3786\"],[0.5555555555555556,\"#d8576b\"],[0.6666666666666666,\"#ed7953\"],[0.7777777777777778,\"#fb9f3a\"],[0.8888888888888888,\"#fdca26\"],[1.0,\"#f0f921\"]]}],\"mesh3d\":[{\"type\":\"mesh3d\",\"colorbar\":{\"outlinewidth\":0,\"ticks\":\"\"}}],\"scatter\":[{\"fillpattern\":{\"fillmode\":\"overlay\",\"size\":10,\"solidity\":0.2},\"type\":\"scatter\"}],\"parcoords\":[{\"type\":\"parcoords\",\"line\":{\"colorbar\":{\"outlinewidth\":0,\"ticks\":\"\"}}}],\"scatterpolargl\":[{\"type\":\"scatterpolargl\",\"marker\":{\"colorbar\":{\"outlinewidth\":0,\"ticks\":\"\"}}}],\"bar\":[{\"error_x\":{\"color\":\"#2a3f5f\"},\"error_y\":{\"color\":\"#2a3f5f\"},\"marker\":{\"line\":{\"color\":\"#E5ECF6\",\"width\":0.5},\"pattern\":{\"fillmode\":\"overlay\",\"size\":10,\"solidity\":0.2}},\"type\":\"bar\"}],\"scattergeo\":[{\"type\":\"scattergeo\",\"marker\":{\"colorbar\":{\"outlinewidth\":0,\"ticks\":\"\"}}}],\"scatterpolar\":[{\"type\":\"scatterpolar\",\"marker\":{\"colorbar\":{\"outlinewidth\":0,\"ticks\":\"\"}}}],\"histogram\":[{\"marker\":{\"pattern\":{\"fillmode\":\"overlay\",\"size\":10,\"solidity\":0.2}},\"type\":\"histogram\"}],\"scattergl\":[{\"type\":\"scattergl\",\"marker\":{\"colorbar\":{\"outlinewidth\":0,\"ticks\":\"\"}}}],\"scatter3d\":[{\"type\":\"scatter3d\",\"line\":{\"colorbar\":{\"outlinewidth\":0,\"ticks\":\"\"}},\"marker\":{\"colorbar\":{\"outlinewidth\":0,\"ticks\":\"\"}}}],\"scattermapbox\":[{\"type\":\"scattermapbox\",\"marker\":{\"colorbar\":{\"outlinewidth\":0,\"ticks\":\"\"}}}],\"scatterternary\":[{\"type\":\"scatterternary\",\"marker\":{\"colorbar\":{\"outlinewidth\":0,\"ticks\":\"\"}}}],\"scattercarpet\":[{\"type\":\"scattercarpet\",\"marker\":{\"colorbar\":{\"outlinewidth\":0,\"ticks\":\"\"}}}],\"carpet\":[{\"aaxis\":{\"endlinecolor\":\"#2a3f5f\",\"gridcolor\":\"white\",\"linecolor\":\"white\",\"minorgridcolor\":\"white\",\"startlinecolor\":\"#2a3f5f\"},\"baxis\":{\"endlinecolor\":\"#2a3f5f\",\"gridcolor\":\"white\",\"linecolor\":\"white\",\"minorgridcolor\":\"white\",\"startlinecolor\":\"#2a3f5f\"},\"type\":\"carpet\"}],\"table\":[{\"cells\":{\"fill\":{\"color\":\"#EBF0F8\"},\"line\":{\"color\":\"white\"}},\"header\":{\"fill\":{\"color\":\"#C8D4E3\"},\"line\":{\"color\":\"white\"}},\"type\":\"table\"}],\"barpolar\":[{\"marker\":{\"line\":{\"color\":\"#E5ECF6\",\"width\":0.5},\"pattern\":{\"fillmode\":\"overlay\",\"size\":10,\"solidity\":0.2}},\"type\":\"barpolar\"}],\"pie\":[{\"automargin\":true,\"type\":\"pie\"}]},\"layout\":{\"autotypenumbers\":\"strict\",\"colorway\":[\"#636efa\",\"#EF553B\",\"#00cc96\",\"#ab63fa\",\"#FFA15A\",\"#19d3f3\",\"#FF6692\",\"#B6E880\",\"#FF97FF\",\"#FECB52\"],\"font\":{\"color\":\"#2a3f5f\"},\"hovermode\":\"closest\",\"hoverlabel\":{\"align\":\"left\"},\"paper_bgcolor\":\"white\",\"plot_bgcolor\":\"#E5ECF6\",\"polar\":{\"bgcolor\":\"#E5ECF6\",\"angularaxis\":{\"gridcolor\":\"white\",\"linecolor\":\"white\",\"ticks\":\"\"},\"radialaxis\":{\"gridcolor\":\"white\",\"linecolor\":\"white\",\"ticks\":\"\"}},\"ternary\":{\"bgcolor\":\"#E5ECF6\",\"aaxis\":{\"gridcolor\":\"white\",\"linecolor\":\"white\",\"ticks\":\"\"},\"baxis\":{\"gridcolor\":\"white\",\"linecolor\":\"white\",\"ticks\":\"\"},\"caxis\":{\"gridcolor\":\"white\",\"linecolor\":\"white\",\"ticks\":\"\"}},\"coloraxis\":{\"colorbar\":{\"outlinewidth\":0,\"ticks\":\"\"}},\"colorscale\":{\"sequential\":[[0.0,\"#0d0887\"],[0.1111111111111111,\"#46039f\"],[0.2222222222222222,\"#7201a8\"],[0.3333333333333333,\"#9c179e\"],[0.4444444444444444,\"#bd3786\"],[0.5555555555555556,\"#d8576b\"],[0.6666666666666666,\"#ed7953\"],[0.7777777777777778,\"#fb9f3a\"],[0.8888888888888888,\"#fdca26\"],[1.0,\"#f0f921\"]],\"sequentialminus\":[[0.0,\"#0d0887\"],[0.1111111111111111,\"#46039f\"],[0.2222222222222222,\"#7201a8\"],[0.3333333333333333,\"#9c179e\"],[0.4444444444444444,\"#bd3786\"],[0.5555555555555556,\"#d8576b\"],[0.6666666666666666,\"#ed7953\"],[0.7777777777777778,\"#fb9f3a\"],[0.8888888888888888,\"#fdca26\"],[1.0,\"#f0f921\"]],\"diverging\":[[0,\"#8e0152\"],[0.1,\"#c51b7d\"],[0.2,\"#de77ae\"],[0.3,\"#f1b6da\"],[0.4,\"#fde0ef\"],[0.5,\"#f7f7f7\"],[0.6,\"#e6f5d0\"],[0.7,\"#b8e186\"],[0.8,\"#7fbc41\"],[0.9,\"#4d9221\"],[1,\"#276419\"]]},\"xaxis\":{\"gridcolor\":\"white\",\"linecolor\":\"white\",\"ticks\":\"\",\"title\":{\"standoff\":15},\"zerolinecolor\":\"white\",\"automargin\":true,\"zerolinewidth\":2},\"yaxis\":{\"gridcolor\":\"white\",\"linecolor\":\"white\",\"ticks\":\"\",\"title\":{\"standoff\":15},\"zerolinecolor\":\"white\",\"automargin\":true,\"zerolinewidth\":2},\"scene\":{\"xaxis\":{\"backgroundcolor\":\"#E5ECF6\",\"gridcolor\":\"white\",\"linecolor\":\"white\",\"showbackground\":true,\"ticks\":\"\",\"zerolinecolor\":\"white\",\"gridwidth\":2},\"yaxis\":{\"backgroundcolor\":\"#E5ECF6\",\"gridcolor\":\"white\",\"linecolor\":\"white\",\"showbackground\":true,\"ticks\":\"\",\"zerolinecolor\":\"white\",\"gridwidth\":2},\"zaxis\":{\"backgroundcolor\":\"#E5ECF6\",\"gridcolor\":\"white\",\"linecolor\":\"white\",\"showbackground\":true,\"ticks\":\"\",\"zerolinecolor\":\"white\",\"gridwidth\":2}},\"shapedefaults\":{\"line\":{\"color\":\"#2a3f5f\"}},\"annotationdefaults\":{\"arrowcolor\":\"#2a3f5f\",\"arrowhead\":0,\"arrowwidth\":1},\"geo\":{\"bgcolor\":\"white\",\"landcolor\":\"#E5ECF6\",\"subunitcolor\":\"white\",\"showland\":true,\"showlakes\":true,\"lakecolor\":\"white\"},\"title\":{\"x\":0.05},\"mapbox\":{\"style\":\"light\"}}},\"geo\":{\"domain\":{\"x\":[0.0,1.0],\"y\":[0.0,1.0]},\"projection\":{\"type\":\"orthographic\"},\"center\":{}},\"legend\":{\"tracegroupgap\":0,\"itemsizing\":\"constant\"},\"title\":{\"text\":\"Cities 7200 to 7400 miles from NYC with Population \\u003e 500k\"}},                        {\"responsive\": true}                    ).then(function(){\n",
       "                            \n",
       "var gd = document.getElementById('b5540603-c1cb-4a80-8cb7-b5f802601652');\n",
       "var x = new MutationObserver(function (mutations, observer) {{\n",
       "        var display = window.getComputedStyle(gd).display;\n",
       "        if (!display || display === 'none') {{\n",
       "            console.log([gd, 'removed!']);\n",
       "            Plotly.purge(gd);\n",
       "            observer.disconnect();\n",
       "        }}\n",
       "}});\n",
       "\n",
       "// Listen for the removal of the full notebook cells\n",
       "var notebookContainer = gd.closest('#notebook-container');\n",
       "if (notebookContainer) {{\n",
       "    x.observe(notebookContainer, {childList: true});\n",
       "}}\n",
       "\n",
       "// Listen for the clearing of the current output cell\n",
       "var outputEl = gd.closest('.output');\n",
       "if (outputEl) {{\n",
       "    x.observe(outputEl, {childList: true});\n",
       "}}\n",
       "\n",
       "                        })                };                });            </script>        </div>"
      ]
     },
     "metadata": {},
     "output_type": "display_data"
    }
   ],
   "source": [
    "# Use Plotly to create a scatter plot on a 3D globe\n",
    "fig = px.scatter_geo(filtered_cities,\n",
    "                     lat='latitude',\n",
    "                     lon='longitude',\n",
    "                     projection=\"orthographic\",\n",
    "                     hover_name=\"name\",\n",
    "                     size=\"population\",\n",
    "                     size_max=50,\n",
    "                     title=\"Cities 7200 to 7400 miles from NYC with Population > 500k\")\n",
    "\n",
    "# Show the figure\n",
    "fig.show()"
   ]
  },
  {
   "cell_type": "code",
   "execution_count": 17,
   "metadata": {},
   "outputs": [
    {
     "data": {
      "text/plain": [
       "count    6.000000e+01\n",
       "mean     2.805775e+06\n",
       "std      3.501437e+06\n",
       "min      1.006557e+06\n",
       "25%      1.280723e+06\n",
       "50%      1.564802e+06\n",
       "75%      2.548449e+06\n",
       "max      2.231547e+07\n",
       "Name: population, dtype: float64"
      ]
     },
     "execution_count": 17,
     "metadata": {},
     "output_type": "execute_result"
    }
   ],
   "source": [
    "filtered_cities[\"population\"].describe()"
   ]
  },
  {
   "cell_type": "code",
   "execution_count": 10,
   "metadata": {},
   "outputs": [
    {
     "data": {
      "text/plain": [
       "geonameid              int64\n",
       "name                  object\n",
       "asciiname             object\n",
       "alternatenames        object\n",
       "latitude             float64\n",
       "longitude            float64\n",
       "feature class         object\n",
       "feature code          object\n",
       "country code          object\n",
       "cc2                   object\n",
       "admin1 code           object\n",
       "admin2 code           object\n",
       "admin3 code           object\n",
       "admin4 code           object\n",
       "population             int64\n",
       "elevation            float64\n",
       "dem                    int64\n",
       "timezone              object\n",
       "modification date     object\n",
       "distance_from_nyc    float64\n",
       "dtype: object"
      ]
     },
     "execution_count": 10,
     "metadata": {},
     "output_type": "execute_result"
    }
   ],
   "source": [
    "filtered_cities.dtypes"
   ]
  }
 ],
 "metadata": {
  "kernelspec": {
   "display_name": "jup",
   "language": "python",
   "name": "python3"
  },
  "language_info": {
   "codemirror_mode": {
    "name": "ipython",
    "version": 3
   },
   "file_extension": ".py",
   "mimetype": "text/x-python",
   "name": "python",
   "nbconvert_exporter": "python",
   "pygments_lexer": "ipython3",
   "version": "3.10.12"
  },
  "orig_nbformat": 4
 },
 "nbformat": 4,
 "nbformat_minor": 2
}
